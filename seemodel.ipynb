{
 "cells": [
  {
   "cell_type": "code",
   "execution_count": 3,
   "id": "e2a3d797",
   "metadata": {},
   "outputs": [
    {
     "name": "stdout",
     "output_type": "stream",
     "text": [
      "Model type: <class 'sklearn.ensemble._forest.RandomForestClassifier'>\n",
      "\n",
      "Target classes: [0 1]\n"
     ]
    }
   ],
   "source": [
    "import joblib\n",
    "\n",
    "# Load the model\n",
    "model = joblib.load(\"rf_churn_model.pkl\")\n",
    "\n",
    "# Show type of object\n",
    "print(\"Model type:\", type(model))\n",
    "\n",
    "# If it's a pipeline, print its steps\n",
    "if hasattr(model, \"steps\"):\n",
    "    print(\"\\nPipeline steps:\")\n",
    "    for name, step in model.steps:\n",
    "        print(f\"- {name}: {step}\")\n",
    "\n",
    "# If it's a classifier, print target classes\n",
    "if hasattr(model, \"classes_\"):\n",
    "    print(\"\\nTarget classes:\", model.classes_)\n"
   ]
  },
  {
   "cell_type": "code",
   "execution_count": 7,
   "id": "e6299be6",
   "metadata": {},
   "outputs": [
    {
     "name": "stdout",
     "output_type": "stream",
     "text": [
      "Model type: <class 'sklearn.ensemble._forest.RandomForestRegressor'>\n",
      "\n",
      "Feature importances available.\n"
     ]
    }
   ],
   "source": [
    "import joblib\n",
    "\n",
    "# Load the model\n",
    "model = joblib.load(\"rf_regression_model.pkl\")\n",
    "\n",
    "# Show type of object\n",
    "print(\"Model type:\", type(model))\n",
    "\n",
    "# If it's a pipeline, print its steps\n",
    "if hasattr(model, \"steps\"):\n",
    "    print(\"\\nPipeline steps:\")\n",
    "    for name, step in model.steps:\n",
    "        print(f\"- {name}: {step}\")\n",
    "\n",
    "# If it's a regressor with feature importances, print them\n",
    "if hasattr(model, \"feature_importances_\"):\n",
    "    print(\"\\nFeature importances available.\")\n"
   ]
  },
  {
   "cell_type": "code",
   "execution_count": null,
   "id": "ac16840d",
   "metadata": {},
   "outputs": [],
   "source": []
  }
 ],
 "metadata": {
  "kernelspec": {
   "display_name": "venv (3.13.5)",
   "language": "python",
   "name": "python3"
  },
  "language_info": {
   "codemirror_mode": {
    "name": "ipython",
    "version": 3
   },
   "file_extension": ".py",
   "mimetype": "text/x-python",
   "name": "python",
   "nbconvert_exporter": "python",
   "pygments_lexer": "ipython3",
   "version": "3.13.5"
  }
 },
 "nbformat": 4,
 "nbformat_minor": 5
}
